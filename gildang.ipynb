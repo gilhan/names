{
 "metadata": {
  "name": "",
  "signature": "sha256:729a3ba10b986be32e7859e695c3ff35e802b66e6327a065b8d08ec754d331f6"
 },
 "nbformat": 3,
 "nbformat_minor": 0,
 "worksheets": [
  {
   "cells": [
    {
     "cell_type": "code",
     "collapsed": false,
     "input": [
      "from pylab import *\n",
      "\t\n",
      "x=arange(0,2,0.01)\n",
      "y=2*sin(2*pi*(x-1/4))\n",
      "\n",
      "plot(x,y)\n",
      "xlabel('x-axis')\n",
      "ylabel('y-axis')\n",
      "title(r'$y=2\\sin (2\\pi(x-1/4))$')\n",
      "\n",
      "show()"
     ],
     "language": "python",
     "metadata": {},
     "outputs": [],
     "prompt_number": 2
    },
    {
     "cell_type": "code",
     "collapsed": false,
     "input": [
      "#\ub354\ud558\uae30 2\ub294 3\uc774\ub77c\ub294 \uac12\uc744 \ucd9c\ub825\ud55c\ub2e4.\n",
      "1 + 2"
     ],
     "language": "python",
     "metadata": {},
     "outputs": [
      {
       "metadata": {},
       "output_type": "pyout",
       "prompt_number": 1,
       "text": [
        "3"
       ]
      }
     ],
     "prompt_number": 1
    },
    {
     "cell_type": "code",
     "collapsed": false,
     "input": [
      "#\ub098\ub217\uc148\uacfc \uacf1\uc148 \uc5ed\uc2dc \uc608\uc0c1\ud55c\ub300\ub85c\uc758 \uacb0\uacfc\uac12\uc744 \ubcf4\uc5ec\uc900\ub2e4.\n",
      "3 / 2.4"
     ],
     "language": "python",
     "metadata": {},
     "outputs": [
      {
       "metadata": {},
       "output_type": "pyout",
       "prompt_number": 3,
       "text": [
        "1.25"
       ]
      }
     ],
     "prompt_number": 3
    },
    {
     "cell_type": "code",
     "collapsed": false,
     "input": [
      "3 * 9"
     ],
     "language": "python",
     "metadata": {},
     "outputs": [
      {
       "metadata": {},
       "output_type": "pyout",
       "prompt_number": 4,
       "text": [
        "27"
       ]
      }
     ],
     "prompt_number": 4
    },
    {
     "cell_type": "code",
     "collapsed": false,
     "input": [
      "# a\uc5d0 1\uc744 b\uc5d0 2\ub97c \ub300\uc785\ud55c \ub2e4\uc74c a\uc640 b\ub97c \ub354\ud558\uba74 3\uc774\ub780 \uacb0\uacfc\uac12\uc744 \ubcf4\uc5ec\uc900\ub2e4.\n",
      "a = 1\n",
      "b = 2\n",
      "a + b"
     ],
     "language": "python",
     "metadata": {},
     "outputs": [
      {
       "metadata": {},
       "output_type": "pyout",
       "prompt_number": 5,
       "text": [
        "3"
       ]
      }
     ],
     "prompt_number": 5
    },
    {
     "cell_type": "code",
     "collapsed": false,
     "input": [
      "#\ud30c\uc774\uc36c\uc5d0\uc11c\ub294 \ubcf5\uc18c\uc218\ub3c4 \uc9c0\uc6d0\ud55c\ub2e4.\n",
      "a = 2 + 3j\n",
      "b = 3\n",
      "a * b"
     ],
     "language": "python",
     "metadata": {},
     "outputs": [
      {
       "metadata": {},
       "output_type": "pyout",
       "prompt_number": 6,
       "text": [
        "(6+9j)"
       ]
      }
     ],
     "prompt_number": 6
    },
    {
     "cell_type": "code",
     "collapsed": false,
     "input": [
      "#a\uc5d0 2+3j \ub77c\ub294 \uac12\uc744 \uc124\uc815\ud558\uc600\ub2e4. \uc5ec\uae30\uc11c 2+3j\ub780 \ubcf5\uc18c\uc218\ub97c \uc758\ubbf8\ud558\ub294 \uac83\uc774\ub2e4. \n",
      "#\ubcf4\ud1b5 \uc6b0\ub9ac\ub294 \uace0\ub4f1\ud559\uad50\ub54c \ubcf5\uc18c\uc218\ub97c \ud45c\uc2dc\ud560 \ub54c \uc54c\ud30c\ubcb3 i\ub97c \uc774\uc6a9\ud574\uc11c 2 + 3i\ucc98\ub7fc \uc0ac\uc6a9\ud588\uc9c0\ub9cc \n",
      "#\ud30c\uc774\uc36c\uc5d0\uc11c\ub294 j\ub97c \uc0ac\uc6a9\ud55c\ub2e4. \n",
      "\n",
      "#\uc704\uc758 \uc608\ub294 2 + 3j \uc640 3\uc744 \uacf1\ud558\ub294 \ubc29\ubc95\uc774\ub2e4. \ub2f9\uc5f0\ud788 \uacb0\uacfc \uac12\uc73c\ub85c 6+9j\uac00 \ub420 \uac83\uc774\ub2e4.\n",
      "\n",
      "#\ub2e4\uc74c\uc740 \uac04\ub2e8\ud55c \uc870\uac74\ubb38 if\ub97c \uc774\uc6a9\ud55c \uc608\uc81c\uc774\ub2e4:"
     ],
     "language": "python",
     "metadata": {},
     "outputs": []
    },
    {
     "cell_type": "code",
     "collapsed": false,
     "input": [
      "a = 3\n",
      "if a > 1:\n",
      "    print(\"a is greater than 1\")\n",
      "    "
     ],
     "language": "python",
     "metadata": {},
     "outputs": [
      {
       "output_type": "stream",
       "stream": "stdout",
       "text": [
        "a is greater than 1\n"
       ]
      }
     ],
     "prompt_number": 8
    },
    {
     "cell_type": "code",
     "collapsed": false,
     "input": [
      "#\"...\" \uc774 \uc758\ubbf8\ud558\ub294 \uac83\uc740 \uc544\uc9c1 \ubb38\uc7a5\uc774 \ub05d\ub098\uc9c0 \uc54a\uc558\uc74c\uc744 \uc54c\ub824\uc8fc\ub294 \uac83\uc774\ub2e4. \n",
      "#\uc704 \uc608\uc81c\uc5d0\uc11c \ub450\ubc88\uc9f8 \"...\" \uc774\ud6c4\uc5d0 \"\uc5d4\ud130\"\ud0a4\ub97c \uce58\uba74 if \ubb38\uc774 \uc885\ub8cc\ub418\uace0 \"a is greater than 1\"\uc774\ub77c\ub294 \ubb38\uc7a5\uc774 \ucd9c\ub825\ub41c\ub2e4.\n",
      "\n",
      "#\ub2e4\uc74c\uc740 for\ub97c \uc774\uc6a9\ud574\uc11c [1, 2, 3]\uc548\uc758 \uac12\ub4e4\uc744 \ud558\ub098\uc529 \ucd9c\ub825\ud574 \uc8fc\ub294 \uac83\uc744 \ubcf4\uc5ec\uc900\ub2e4:"
     ],
     "language": "python",
     "metadata": {},
     "outputs": []
    },
    {
     "cell_type": "code",
     "collapsed": false,
     "input": [
      "for a in [1, 2, 3]:\n",
      "    print(a)"
     ],
     "language": "python",
     "metadata": {},
     "outputs": [
      {
       "output_type": "stream",
       "stream": "stdout",
       "text": [
        "1\n",
        "2\n",
        "3\n"
       ]
      }
     ],
     "prompt_number": 10
    },
    {
     "cell_type": "code",
     "collapsed": false,
     "input": [
      "#\uc704\uc758 \uc608\ub294 \ub300\uad04\ud638([]) \uc0ac\uc774\uc5d0 \uc788\ub294 \uac12\ub4e4\uc744 \ud558\ub098\uc529 \ucd9c\ub825\ud574 \uc900\ub2e4. \n",
      "#\uc704 \ucf54\ub4dc\uc758 \uc758\ubbf8\ub294 \"[1, 2, 3]\uc774\ub77c\ub294 \ub9ac\uc2a4\ud2b8\uc5d0\uc11c \uc55e\uc5d0\uc11c\ubd80\ud130 \ud558\ub098\uc529 \uaebc\ub0b4\uc5b4 \n",
      "#a\ub77c\ub294 \ubcc0\uc218\uc5d0 \ub300\uc785\ud55c \ud6c4 print(a)\ub97c \uc218\ud589\ud558\ub77c\u201d\uc774\ub2e4. \ub2f9\uc5f0\ud788 a \uc5d0 \ucc28\ub840\ub85c \n",
      "#1, 2, 3\uc774\ub780 \uac12\uc774 \ub300\uc785\ub420 \uac83\uc774\uace0 \n",
      "\n",
      "#print(a)\uc5d0 \uc758\ud574\uc11c \uadf8 \uac12\uc774 \ucc28\ub840\ub300\ub85c \ucd9c\ub825 \ub420 \uac83\uc774\ub2e4.\n",
      "\n",
      "#\ub2e4\uc74c\uc740 while\uc744 \uc774\uc6a9\ud558\ub294 \ubaa8\uc2b5\uc774\ub2e4"
     ],
     "language": "python",
     "metadata": {},
     "outputs": []
    },
    {
     "cell_type": "code",
     "collapsed": false,
     "input": [
      "i = 0\n",
      "while i < 3:\n",
      "    i=i+1\n",
      "    print(i)\n",
      "    "
     ],
     "language": "python",
     "metadata": {},
     "outputs": [
      {
       "output_type": "stream",
       "stream": "stdout",
       "text": [
        "1\n",
        "2\n",
        "3\n"
       ]
      }
     ],
     "prompt_number": 11
    },
    {
     "cell_type": "code",
     "collapsed": false,
     "input": [
      "#while \uc774\ub780 \uc601\uc5b4\ub2e8\uc5b4\ub294 \u201c~\uc778 \ub3d9\uc548\u201d\uc774\ub780 \ub73b\uc774\ub2e4.\n",
      "\n",
      "#\uc704\uc758 \uc608\uc81c\ub294 \"i\uac12\uc774 3\ubcf4\ub2e4 \uc791\ub2e4\"\uc778 \ub3d9\uc548 \"i = i + 1\"\uacfc \"print(i)\"\ub97c \uc218\ud589\ud558\ub77c\ub294 \ub9d0\uc774\ub2e4.\n",
      "\n",
      "#i = i + 1\uc774\ub780 \ubb38\uc7a5\uc740 i \uc758 \uac12\uc744 1\uc529 \ub354\ud558\uac8c \ud55c\ub2e4. \n",
      "#i\uac12\uc774 3\ubcf4\ub2e4 \ucee4\uc9c0\uac8c \ub418\uba74 while\ubb38\uc744 \ube60\uc838 \ub098\uac00\uac8c \ub41c\ub2e4.\n",
      "\n",
      "#\ud30c\uc774\uc36c\uc758 \ud568\uc218\ub294 \ub2e4\uc74c\ucc98\ub7fc \uc0dd\uacbc\ub2e4:"
     ],
     "language": "python",
     "metadata": {},
     "outputs": []
    },
    {
     "cell_type": "code",
     "collapsed": false,
     "input": [
      "def sum(a, b):\n",
      "    return a+b\n",
      "print(sum(3,4))"
     ],
     "language": "python",
     "metadata": {},
     "outputs": [
      {
       "output_type": "stream",
       "stream": "stdout",
       "text": [
        "7\n"
       ]
      }
     ],
     "prompt_number": 12
    },
    {
     "cell_type": "code",
     "collapsed": false,
     "input": [
      "#\ud30c\uc774\uc36c\uc5d0\uc11c def\ub294 \ud568\uc218\ub97c \ub9cc\ub4e4 \ub54c \uc0ac\uc6a9\ub418\ub294 \uc608\uc57d\uc5b4\uc774\ub2e4.\n",
      "#\uc704\uc758 \uc608\ub294 sum\uc774\ub780 \ud568\uc218\ub97c \ub9cc\ub4e4\uace0 \uadf8 \ud568\uc218\ub97c \uc5b4\ub5bb\uac8c \uc0ac\uc6a9\ud558\ub294\uc9c0\uc5d0 \ub300\ud55c \uc608\ub97c \ubcf4\uc5ec\uc900\ub2e4. \n",
      "\n",
      "#sum(a, b)\uc5d0\uc11c a, b\ub294 \uc785\ub825\uac12\uc774\uace0 a+b \ub294 \ub9ac\ud134\uac12\uc774\ub2e4. \uc989 3, 4\uac00 \uc785\ub825\uc73c\ub85c \ub4e4\uc5b4\uc624\uba74 3+4\ub97c \uc218\ud589\ud558\uace0 \uadf8 \uacb0\uacfc\uac12\uc778 7\uc744 \ub3cc\ub824\uc900\ub2e4."
     ],
     "language": "python",
     "metadata": {},
     "outputs": []
    },
    {
     "cell_type": "code",
     "collapsed": false,
     "input": [
      "#\uc22b\uc790\ud615\uc774\ub780 \uc22b\uc790 \ud615\ud0dc\ub85c \uc774\ub8e8\uc5b4\uc9c4 \uc790\ub8cc\ud615\uc73c\ub85c \uc6b0\ub9ac\uac00 \uc774\ubbf8 \uc544\ub294 \uac83\ub4e4\uc774\ub2e4. \n",
      "#\uc6b0\ub9ac\uac00 \ud754\ud788 \uc0ac\uc6a9\ud574 \uc654\ub358 \uac83\ub4e4\uc744 \uc0dd\uac01\ud574 \ubcf4\uc790.\n",
      "\n",
      "#123\uacfc \uac19\uc740 \uc815\uc218, 12.34 \uac19\uc740 \uc2e4\uc218, \uacf5\ub300\uc0dd\uc774\ub77c\uba74 \ud544\uc218\uc801\uc73c\ub85c \uc54c\uc544\uc57c \ud560 \ubcf5\uc18c\uc218(1 + 2j) \uac19\uc740 \uac83\ub4e4\ub3c4 \uc788\uace0, \n",
      "#\ub4dc\ubb3c\uac8c \uc4f0\uc774\uae34 \ud558\uc9c0\ub9cc 8\uc9c4\uc218\ub098 16\uc9c4\uc218 \uac19\uc740 \uac83\ub4e4\ub3c4 \uc788\ub2e4.\n",
      "\n",
      "#\uc774\ub7f0 \uc22b\uc790\ub4e4\uc744 \ud30c\uc774\uc36c\uc5d0\uc11c\ub294 \uc5b4\ub5bb\uac8c \uc0ac\uc6a9\ud558\ub294 \uc9c0 \uc54c\uc544\ubcf4\uc790.\n",
      "\n",
      "#\ud56d\ubaa9\t\uc0ac\uc6a9 \uc608\n",
      "#\uc815\uc218\t123, -345, 0\n",
      "#\uc2e4\uc218\t123.45, -1234.5, 3.4e10\n",
      "#\ubcf5\uc18c\uc218\t1 + 2j, -3j\n",
      "#8\uc9c4\uc218\t0o34, 0o25\n",
      "#16\uc9c4\uc218\t0x2A, 0xFF\n",
      "\n",
      "\n",
      "#\uc704\uc758 \ud45c\ub294 \uc22b\uc790\ub4e4\uc774 \ud30c\uc774\uc36c\uc5d0\uc11c \uc5b4\ub5bb\uac8c \uc0ac\uc6a9\ub418\ub294\uc9c0\ub97c \uac04\ub7b5\ud558\uac8c \ubcf4\uc5ec\uc900\ub2e4."
     ],
     "language": "python",
     "metadata": {},
     "outputs": []
    },
    {
     "cell_type": "code",
     "collapsed": false,
     "input": [
      "#\uc815\uc218\ud615\uc774\ub780 \ub9d0 \uadf8\ub300\ub85c \uc815\uc218\ub97c \ub73b\ud558\ub294 \uc22b\uc790\ub97c \ub9d0\ud55c\ub2e4. \uc544\ub798\uc758 a\ub294 \uac01\uac01\uc758 \uc22b\uc790\ub97c \ub300\uc785\ud55c \ubcc0\uc218\uc774\ub2e4.\n",
      "#\ub2e4\uc74c \uc608\ub294 \uc591\uc758 \uc815\uc218\uc640 \uc74c\uc758 \uc815\uc218, \uc22b\uc790 0\uc744 \ubcc0\uc218 a\uc5d0 \ub300\uc785\ud558\ub294 \uc608\uc81c\uc774\ub2e4.\n",
      "\n",
      "a = 123\n",
      "a = - 178\n",
      "a = 0"
     ],
     "language": "python",
     "metadata": {},
     "outputs": [],
     "prompt_number": 13
    },
    {
     "cell_type": "code",
     "collapsed": false,
     "input": [
      "#\uc18c\uc218\uc810 \ud3ec\ud568\ub41c \uac83(Floating-point)\n",
      "\n",
      "#\uc544\ub798\uc758 \uccab \ubc88\uc9f8 \uc608\uc640 \ub450 \ubc88\uc9f8 \uc608\ub294 \uc6b0\ub9ac\uac00 \ub298 \uc0ac\uc6a9\ud558\ub294 \ubc29\uc2dd\uc774\ub2e4. \n",
      "#\uadf8\ub9ac\uace0 \uc138 \ubc88\uc9f8\uc640 \ub124 \ubc88\uc9f8 \ubc29\ubc95\uc740 \ucef4\ud4e8\ud130\uc2dd \uc9c0\uc218 \ud45c\ud604\ubc95\uc774\ub2e4. \n",
      "#\uc9c0\uc218 \ud45c\ud604\ubc95\uc73c\ub85c \ud30c\uc774\uc36c\uc5d0\uc11c\ub294 4.24e10 \ub610\ub294 4.24E10\ucc98\ub7fc \ud45c\ud604\ud55c\ub2e4. \n",
      "#(e, E\ub458\uc911 \uc5b4\ub290 \uac83\uc744 \uc0ac\uc6a9\ud574\ub3c4 \ubb34\ubc29\ud558\ub2e4.)\n",
      "\n",
      "a = 1.2\n",
      "a = -3.45\n",
      "a = 4.24E10\n",
      "a = 4.24e-10\n",
      "a\n",
      "# \uc704 \uc608\uc5d0\uc11c 4.24E10\uc740 4.24 \uacf1\ud558\uae30 10\uc758 10\uc2b9, 4.24e-10\uc740 4.24 \uacf1\ud558\uae30 10\uc758 \ub9c8\uc774\ub108\uc2a4 10\uc2b9\uc744 \uc758\ubbf8\ud55c\ub2e4."
     ],
     "language": "python",
     "metadata": {},
     "outputs": [
      {
       "metadata": {},
       "output_type": "pyout",
       "prompt_number": 15,
       "text": [
        "4.24e-10"
       ]
      }
     ],
     "prompt_number": 15
    },
    {
     "cell_type": "code",
     "collapsed": false,
     "input": [
      "#8\uc9c4\uc218\ub97c \ub9cc\ub4e4\uae30 \uc704\ud574\uc11c\ub294 \uc22b\uc790\uac00 0o \ub610\ub294 0O(\uc22b\uc790 0 + \uc54c\ud30c\ubcb3 o \ub610\ub294 \ub300\ubb38\uc790 O)\uc73c\ub85c \uc2dc\uc791\ud558\uba74 \ub41c\ub2e4.\n",
      "a = 0o177\n",
      "a"
     ],
     "language": "python",
     "metadata": {},
     "outputs": [
      {
       "metadata": {},
       "output_type": "pyout",
       "prompt_number": 17,
       "text": [
        "127"
       ]
      }
     ],
     "prompt_number": 17
    },
    {
     "cell_type": "code",
     "collapsed": false,
     "input": [
      "#16\uc9c4\uc218\ub97c \ub9cc\ub4e4\uae30 \uc704\ud574\uc11c\ub294 \uc22b\uc790\uac00 0x\ub85c \uc2dc\uc791\ud558\uba74 \ub41c\ub2e4.\n",
      "a = 0x8ff\n",
      "b = 0xABC\n",
      "a + b\n",
      "\n",
      "#8\uc9c4\uc218\ub098 16\uc9c4\uc218\ub294 \uc798 \uc0ac\uc6a9\ud558\uc9c0 \uc54a\ub294 \ud615\ud0dc\uc758 \uc22b\uc790 \uc790\ub8cc\ud615\uc774\ub2e4."
     ],
     "language": "python",
     "metadata": {},
     "outputs": [
      {
       "metadata": {},
       "output_type": "pyout",
       "prompt_number": 19,
       "text": [
        "5051"
       ]
      }
     ],
     "prompt_number": 19
    },
    {
     "cell_type": "code",
     "collapsed": false,
     "input": [
      "#\ubcf4\ud1b5 \uc6b0\ub9ac\ub294 \uc911\uace0\ub4f1\ud559\uad50 \uc2dc\uc808\uc5d0 'j' \ub300\uc2e0 'i'\ub97c \uc0ac\uc6a9\ud588\uc744 \uac83\uc774\ub2e4. \ud30c\uc774\uc36c\uc740 'i' \ub300\uc2e0 'j'\ub97c \uc0ac\uc6a9\ud55c\ub2e4. 'j'\ub97c \uc368\ub3c4 \ub418\uace0 'J'\ub97c \uc368\ub3c4 \ub41c\ub2e4.\n",
      "a = 1+2j\n",
      "b = 3-4J\n",
      "a + b"
     ],
     "language": "python",
     "metadata": {},
     "outputs": [
      {
       "metadata": {},
       "output_type": "pyout",
       "prompt_number": 20,
       "text": [
        "(4-2j)"
       ]
      }
     ],
     "prompt_number": 20
    },
    {
     "cell_type": "code",
     "collapsed": false,
     "input": [
      "#\ubcf5\uc18c\uc218\ub97c \ud65c\uc6a9\ud558\ub294 \uc608\ub4e4\uc744 \uba87\uac00\uc9c0 \ubcf4\ub3c4\ub85d \ud558\uc790. \n",
      "#\ubcf5\uc18c\uc218\uc5d0\ub294 \ubcf5\uc18c\uc218\uac00 \uc790\uccb4\uc801\uc73c\ub85c \uac00\uc9c0\uace0 \uc788\ub294 \ub0b4\uc7a5\ud568\uc218\uac00 \uc788\ub2e4. \n",
      "#\uadf8\uac83\ub4e4\uc744 \uc774\uc6a9\ud558\uba74 \uc880\ub354 \ub2e4\uc591\ud55c \ubc29\ubc95\uc73c\ub85c \ubcf5\uc18c\uc218\ub97c \uc0ac\uc6a9\ud560 \uc218 \uc788\uac8c \ub41c\ub2e4.\n",
      "\n",
      "#\ub2e4\uc74c\uc758 \ubcf5\uc18c\uc218 \uc608\ub4e4\uc744 \ubcf4\uc790.\n",
      "#\ubcf5\uc18c\uc218.real\uc740 \ubcf5\uc18c\uc218\uc758 \uc2e4\uc218 \ubd80\ubd84\uc744 \ub3cc\ub824\uc900\ub2e4.\n",
      "a = 1+2j\n",
      "a.real"
     ],
     "language": "python",
     "metadata": {},
     "outputs": [
      {
       "metadata": {},
       "output_type": "pyout",
       "prompt_number": 21,
       "text": [
        "1.0"
       ]
      }
     ],
     "prompt_number": 21
    },
    {
     "cell_type": "code",
     "collapsed": false,
     "input": [
      "#\ubcf5\uc18c\uc218.imag\ub294 \ubcf5\uc18c\uc218\uc758 \ud5c8\uc218 \ubd80\ubd84\uc744 \ub3cc\ub824\uc900\ub2e4.\n",
      "a = 1+2j\n",
      "a.imag"
     ],
     "language": "python",
     "metadata": {},
     "outputs": [
      {
       "metadata": {},
       "output_type": "pyout",
       "prompt_number": 22,
       "text": [
        "2.0"
       ]
      }
     ],
     "prompt_number": 22
    },
    {
     "cell_type": "code",
     "collapsed": false,
     "input": [
      "#\ubcf5\uc18c\uc218.conjugate()\ub294 \ubcf5\uc18c\uc218\uc758 \ucf24\ub808 \ubcf5\uc18c\uc218\ub97c \ub3cc\ub824\uc900\ub2e4.\n",
      "a = 1+2j\n",
      "a.conjugate()"
     ],
     "language": "python",
     "metadata": {},
     "outputs": [
      {
       "metadata": {},
       "output_type": "pyout",
       "prompt_number": 23,
       "text": [
        "(1-2j)"
       ]
      }
     ],
     "prompt_number": 23
    },
    {
     "cell_type": "code",
     "collapsed": false,
     "input": [
      "#abs(\ubcf5\uc18c\uc218)\ub294 \ubcf5\uc18c\uc218\uc758 \uc808\ub300\uac12\uc744 \ub3cc\ub824\uc900\ub2e4. (1+2j\uc758 \uc808\ub300\uac12\uc740 \ub8e8\ud2b8 1^2 + 2^2 \uc774\ub2e4.)\n",
      "a = 1+2j\n",
      "abs(a)"
     ],
     "language": "python",
     "metadata": {},
     "outputs": [
      {
       "metadata": {},
       "output_type": "pyout",
       "prompt_number": 24,
       "text": [
        "2.23606797749979"
       ]
      }
     ],
     "prompt_number": 24
    },
    {
     "cell_type": "code",
     "collapsed": false,
     "input": [
      "#\ud504\ub85c\uadf8\ub798\ubc0d\uc744 \ud55c\ubc88\ub3c4 \ud574 \ubcf8\uc801\uc774 \uc5c6\ub294 \ub3c5\uc790\ub77c\ub3c4 \uc0ac\uce59\uc5f0\uc0b0(+, -, *, /)\uc740 \uc54c\uace0 \uc788\uc744 \uac83\uc774\ub2e4.\n",
      "#\ud30c\uc774\uc36c\uc5d0\uc11c\ub3c4 \uc5ed\uc2dc \uacc4\uc0b0\uae30\uc640 \ub9c8\ucc2c\uac00\uc9c0\ub85c \uc544\ub798\uc758 \uc5f0\uc0b0\uc790\ub97c \uc774\uc6a9\ud558\uc5ec \uc0ac\uce59\uc5f0\uc0b0\uc744 \uc218\ud589\ud55c\ub2e4.\n",
      "\n",
      "#\u203b \ud30c\uc774\uc36c 2.7\uc758 \uacbd\uc6b0 \uac00\uc7a5 \ub9c8\uc9c0\ub9c9 \uc608\uc81c\uc778 a / b\ub97c \uc2e4\ud589\ud558\uba74 0\uc774 \ub9ac\ud134\ub41c\ub2e4. \n",
      "#\ub3d9\uc77c\ud55c \uacb0\uacfc\ub97c \uc5bb\uace0 \uc2f6\ub2e4\uba74 a / (b*1.0)\uc73c\ub85c b\ub97c \uac15\uc81c\ub85c \uc2e4\uc218\ud615\uc73c\ub85c \ubcc0\ud658\ud55c \ud6c4 \uc218\ud589\ud574\uc57c\ub9cc \ud55c\ub2e4. \n",
      "#\ud30c\uc774\uc36c 2.7\uc758 \uacbd\uc6b0 \uc815\uc218\ud615\uac04 \ub098\ub217\uc148\uc758 \uacbd\uc6b0 \uc815\uc218\ub85c\ub9cc \uadf8 \uacb0\uacfc\ub97c \ub9ac\ud134\ud558\uae30 \ub54c\ubb38\uc774\ub2e4. \n",
      "#\ud30c\uc774\uc36c 3\ub294 \uc704\uc758 \uc608\uc81c\uc5d0\uc11c \ubcf4\ub4ef\uc774 \ub530\ub85c \ud615 \ubcc0\ud658\uc774 \ud544\uc694\uc5c6\ub2e4. (\ucc38\uace0: \ud30c\uc774\uc36c 2.7 vs \ud30c\uc774\uc36c 3)\n",
      "\n",
      "a = 3\n",
      "b = 4\n",
      "a + b"
     ],
     "language": "python",
     "metadata": {},
     "outputs": [
      {
       "metadata": {},
       "output_type": "pyout",
       "prompt_number": 26,
       "text": [
        "7"
       ]
      }
     ],
     "prompt_number": 26
    },
    {
     "cell_type": "code",
     "collapsed": false,
     "input": [
      "a * b"
     ],
     "language": "python",
     "metadata": {},
     "outputs": [
      {
       "metadata": {},
       "output_type": "pyout",
       "prompt_number": 27,
       "text": [
        "12"
       ]
      }
     ],
     "prompt_number": 27
    },
    {
     "cell_type": "code",
     "collapsed": false,
     "input": [
      "a / (b*1.0)"
     ],
     "language": "python",
     "metadata": {},
     "outputs": [
      {
       "metadata": {},
       "output_type": "pyout",
       "prompt_number": 29,
       "text": [
        "0.75"
       ]
      }
     ],
     "prompt_number": 29
    },
    {
     "cell_type": "code",
     "collapsed": false,
     "input": [
      "#\ub2e4\uc74c\uc5d0 \uc54c\uc544\uc57c \ub420 \uc5f0\uc0b0\uc790\ub85c ** \ub77c\ub294 \uc5f0\uc0b0\uc790\uac00 \uc788\ub2e4. \n",
      "#\uc774\uac83\uc740 x ** y\ucc98\ub7fc \uc0ac\uc6a9\ub418\uc5c8\uc744 \ub54c x\uc758 y\uc2b9 \uac12\uc744 \ub3cc\ub824 \uc900\ub2e4. \ub2e4\uc74c\uc758 \uc608\ub97c \ud1b5\ud574 \uc54c\uc544\ubcf4\uc790.\n",
      "a = 3\n",
      "b = 4\n",
      "a ** b"
     ],
     "language": "python",
     "metadata": {},
     "outputs": [
      {
       "metadata": {},
       "output_type": "pyout",
       "prompt_number": 30,
       "text": [
        "81"
       ]
      }
     ],
     "prompt_number": 30
    },
    {
     "cell_type": "code",
     "collapsed": false,
     "input": [
      "#\ud504\ub85c\uadf8\ub798\ubc0d\uc744 \uc811\ud574 \ubcf8 \uc801\uc774 \uc5c6\ub294 \ub3c5\uc790\ub77c\uba74 %\uc5f0\uc0b0\uc790\ub294 \ubcf8 \uc801\uc774 \uc5c6\uc744 \uac83\uc774\ub2e4. \n",
      "#%\ub294 \ub098\uba38\uc9c0 \uac12\uc744 \ubc18\ud658\ud558\ub294 \uc5f0\uc0b0\uc790\uc774\ub2e4. \n",
      "#7\uc744 3\uc73c\ub85c \ub098\ub204\uba74 \ub098\uba38\uc9c0\ub294 1\uc774 \ub420 \uac83\uc774\uace0 3\uc744 7\ub85c \ub098\ub204\uba74 \ub098\uba38\uc9c0\ub294 3\uc774 \ub420 \uac83\uc774\ub2e4. \n",
      "#\ub2e4\uc74c\uc758 \uc608\ub85c \ud655\uc778\ud574 \ubcf4\uc790.\n",
      "\n",
      "7 % 3"
     ],
     "language": "python",
     "metadata": {},
     "outputs": [
      {
       "metadata": {},
       "output_type": "pyout",
       "prompt_number": 31,
       "text": [
        "1"
       ]
      }
     ],
     "prompt_number": 31
    },
    {
     "cell_type": "code",
     "collapsed": false,
     "input": [
      "3 % 7"
     ],
     "language": "python",
     "metadata": {},
     "outputs": [
      {
       "metadata": {},
       "output_type": "pyout",
       "prompt_number": 32,
       "text": [
        "3"
       ]
      }
     ],
     "prompt_number": 32
    }
   ],
   "metadata": {}
  }
 ]
}