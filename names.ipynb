{
 "metadata": {
  "name": "",
  "signature": "sha256:5960b148aed9f41f89cf0aeb6ca8622a81727b56f836be0e9f7a55fa40ea702b"
 },
 "nbformat": 3,
 "nbformat_minor": 0,
 "worksheets": [
  {
   "cells": [
    {
     "cell_type": "code",
     "collapsed": false,
     "input": [
      "import pylab\n",
      "import pandas as pd\n",
      "import matplotlib.pyplot as plt"
     ],
     "language": "python",
     "metadata": {},
     "outputs": [],
     "prompt_number": 1
    },
    {
     "cell_type": "code",
     "collapsed": false,
     "input": [
      "names1880 = pd.read_csv('yob1880.txt', names=['name', 'sex', 'births'])"
     ],
     "language": "python",
     "metadata": {},
     "outputs": [],
     "prompt_number": 2
    },
    {
     "cell_type": "code",
     "collapsed": false,
     "input": [
      "names1880[:5]"
     ],
     "language": "python",
     "metadata": {},
     "outputs": [
      {
       "html": [
        "<div style=\"max-height:1000px;max-width:1500px;overflow:auto;\">\n",
        "<table border=\"1\" class=\"dataframe\">\n",
        "  <thead>\n",
        "    <tr style=\"text-align: right;\">\n",
        "      <th></th>\n",
        "      <th>name</th>\n",
        "      <th>sex</th>\n",
        "      <th>births</th>\n",
        "    </tr>\n",
        "  </thead>\n",
        "  <tbody>\n",
        "    <tr>\n",
        "      <th>0</th>\n",
        "      <td>      Mary</td>\n",
        "      <td> F</td>\n",
        "      <td> 7065</td>\n",
        "    </tr>\n",
        "    <tr>\n",
        "      <th>1</th>\n",
        "      <td>      Anna</td>\n",
        "      <td> F</td>\n",
        "      <td> 2604</td>\n",
        "    </tr>\n",
        "    <tr>\n",
        "      <th>2</th>\n",
        "      <td>      Emma</td>\n",
        "      <td> F</td>\n",
        "      <td> 2003</td>\n",
        "    </tr>\n",
        "    <tr>\n",
        "      <th>3</th>\n",
        "      <td> Elizabeth</td>\n",
        "      <td> F</td>\n",
        "      <td> 1939</td>\n",
        "    </tr>\n",
        "    <tr>\n",
        "      <th>4</th>\n",
        "      <td>    Minnie</td>\n",
        "      <td> F</td>\n",
        "      <td> 1746</td>\n",
        "    </tr>\n",
        "  </tbody>\n",
        "</table>\n",
        "</div>"
       ],
       "metadata": {},
       "output_type": "pyout",
       "prompt_number": 3,
       "text": [
        "        name sex  births\n",
        "0       Mary   F    7065\n",
        "1       Anna   F    2604\n",
        "2       Emma   F    2003\n",
        "3  Elizabeth   F    1939\n",
        "4     Minnie   F    1746"
       ]
      }
     ],
     "prompt_number": 3
    },
    {
     "cell_type": "code",
     "collapsed": false,
     "input": [
      "# use the sum of the births column by sex \n",
      "# as the total number of births in that year\n",
      "\n",
      "names1880.groupby('sex').births.sum()"
     ],
     "language": "python",
     "metadata": {},
     "outputs": [
      {
       "metadata": {},
       "output_type": "pyout",
       "prompt_number": 4,
       "text": [
        "sex\n",
        "F       90993\n",
        "M      110493\n",
        "Name: births, dtype: int64"
       ]
      }
     ],
     "prompt_number": 4
    },
    {
     "cell_type": "code",
     "collapsed": false,
     "input": [
      "# assemble all of the data into a single DataFrame \n",
      "# and further to add a year field\n",
      "\n",
      "years = range(1880, 2011)\n",
      "pieces = []\n",
      "columns = ['name', 'sex', 'births']\n",
      "for year in years:\n",
      "    path = 'yob%d.txt' % year\n",
      "    frame = pd.read_csv(path, names=columns)\n",
      "    frame['year'] = year\n",
      "    pieces.append(frame)\n",
      "\n",
      "    # Concatenate everything into a single DataFrame\n",
      "    names = pd.concat(pieces, ignore_index=True)"
     ],
     "language": "python",
     "metadata": {},
     "outputs": [],
     "prompt_number": 10
    },
    {
     "cell_type": "code",
     "collapsed": false,
     "input": [
      "names"
     ],
     "language": "python",
     "metadata": {},
     "outputs": [
      {
       "html": [
        "<pre>\n",
        "&lt;class 'pandas.core.frame.DataFrame'&gt;\n",
        "Int64Index: 1690784 entries, 0 to 1690783\n",
        "Data columns (total 4 columns):\n",
        "name      1690784  non-null values\n",
        "sex       1690784  non-null values\n",
        "births    1690784  non-null values\n",
        "year      1690784  non-null values\n",
        "dtypes: int64(2), object(2)\n",
        "</pre>"
       ],
       "metadata": {},
       "output_type": "pyout",
       "prompt_number": 9,
       "text": [
        "<class 'pandas.core.frame.DataFrame'>\n",
        "Int64Index: 1690784 entries, 0 to 1690783\n",
        "Data columns (total 4 columns):\n",
        "name      1690784  non-null values\n",
        "sex       1690784  non-null values\n",
        "births    1690784  non-null values\n",
        "year      1690784  non-null values\n",
        "dtypes: int64(2), object(2)"
       ]
      }
     ],
     "prompt_number": 9
    },
    {
     "cell_type": "code",
     "collapsed": false,
     "input": [
      "total_births = names.pivot_table('births', rows='year',cols='sex', aggfunc=sum)"
     ],
     "language": "python",
     "metadata": {},
     "outputs": [],
     "prompt_number": 11
    },
    {
     "cell_type": "code",
     "collapsed": false,
     "input": [
      "total_births.tail()"
     ],
     "language": "python",
     "metadata": {},
     "outputs": [
      {
       "html": [
        "<div style=\"max-height:1000px;max-width:1500px;overflow:auto;\">\n",
        "<table border=\"1\" class=\"dataframe\">\n",
        "  <thead>\n",
        "    <tr style=\"text-align: right;\">\n",
        "      <th>sex</th>\n",
        "      <th>F</th>\n",
        "      <th>M</th>\n",
        "    </tr>\n",
        "    <tr>\n",
        "      <th>year</th>\n",
        "      <th></th>\n",
        "      <th></th>\n",
        "    </tr>\n",
        "  </thead>\n",
        "  <tbody>\n",
        "    <tr>\n",
        "      <th>2006</th>\n",
        "      <td> 1896468</td>\n",
        "      <td> 2050234</td>\n",
        "    </tr>\n",
        "    <tr>\n",
        "      <th>2007</th>\n",
        "      <td> 1916888</td>\n",
        "      <td> 2069242</td>\n",
        "    </tr>\n",
        "    <tr>\n",
        "      <th>2008</th>\n",
        "      <td> 1883645</td>\n",
        "      <td> 2032310</td>\n",
        "    </tr>\n",
        "    <tr>\n",
        "      <th>2009</th>\n",
        "      <td> 1827643</td>\n",
        "      <td> 1973359</td>\n",
        "    </tr>\n",
        "    <tr>\n",
        "      <th>2010</th>\n",
        "      <td> 1759010</td>\n",
        "      <td> 1898382</td>\n",
        "    </tr>\n",
        "  </tbody>\n",
        "</table>\n",
        "</div>"
       ],
       "metadata": {},
       "output_type": "pyout",
       "prompt_number": 13,
       "text": [
        "sex         F        M\n",
        "year                  \n",
        "2006  1896468  2050234\n",
        "2007  1916888  2069242\n",
        "2008  1883645  2032310\n",
        "2009  1827643  1973359\n",
        "2010  1759010  1898382"
       ]
      }
     ],
     "prompt_number": 13
    },
    {
     "cell_type": "code",
     "collapsed": false,
     "input": [
      "total_births.plot(title='Total births by sex and year')"
     ],
     "language": "python",
     "metadata": {},
     "outputs": [
      {
       "metadata": {},
       "output_type": "pyout",
       "prompt_number": 14,
       "text": [
        "<matplotlib.axes.AxesSubplot at 0x1737b38c>"
       ]
      }
     ],
     "prompt_number": 14
    },
    {
     "cell_type": "code",
     "collapsed": false,
     "input": [
      "# insert a column prop with the fraction of babies given \n",
      "# each name relative to the total number of births\n",
      "\n",
      "def add_prop(group):\n",
      "    # Integer division floors\n",
      "    births = group.births.astype(float)\n",
      "    group['prop'] = births / births.sum()\n",
      "    return group\n",
      "\n",
      "names = names.groupby(['year', 'sex']).apply(add_prop)"
     ],
     "language": "python",
     "metadata": {},
     "outputs": [],
     "prompt_number": 15
    },
    {
     "cell_type": "code",
     "collapsed": false,
     "input": [
      "names"
     ],
     "language": "python",
     "metadata": {},
     "outputs": [
      {
       "html": [
        "<pre>\n",
        "&lt;class 'pandas.core.frame.DataFrame'&gt;\n",
        "Int64Index: 1690784 entries, 0 to 1690783\n",
        "Data columns (total 5 columns):\n",
        "name      1690784  non-null values\n",
        "sex       1690784  non-null values\n",
        "births    1690784  non-null values\n",
        "year      1690784  non-null values\n",
        "prop      1690784  non-null values\n",
        "dtypes: float64(1), int64(2), object(2)\n",
        "</pre>"
       ],
       "metadata": {},
       "output_type": "pyout",
       "prompt_number": 16,
       "text": [
        "<class 'pandas.core.frame.DataFrame'>\n",
        "Int64Index: 1690784 entries, 0 to 1690783\n",
        "Data columns (total 5 columns):\n",
        "name      1690784  non-null values\n",
        "sex       1690784  non-null values\n",
        "births    1690784  non-null values\n",
        "year      1690784  non-null values\n",
        "prop      1690784  non-null values\n",
        "dtypes: float64(1), int64(2), object(2)"
       ]
      }
     ],
     "prompt_number": 16
    },
    {
     "cell_type": "code",
     "collapsed": false,
     "input": [
      "# When performing a group operation like this, it's often\n",
      "# valuable to do a sanity check, like verifying that the prop \n",
      "# column sums to 1 within all the groups\n",
      "np.allclose(names.groupby(['year', 'sex']).prop.sum(), 1)"
     ],
     "language": "python",
     "metadata": {},
     "outputs": [
      {
       "metadata": {},
       "output_type": "pyout",
       "prompt_number": 17,
       "text": [
        "True"
       ]
      }
     ],
     "prompt_number": 17
    },
    {
     "cell_type": "code",
     "collapsed": false,
     "input": [
      "# top 1000 names for each sex/year combination\n",
      "def get_top1000(group):\n",
      "    return group.sort_index(by='births', ascending=False)[:1000]"
     ],
     "language": "python",
     "metadata": {},
     "outputs": [],
     "prompt_number": 18
    },
    {
     "cell_type": "code",
     "collapsed": false,
     "input": [
      "grouped = names.groupby(['year', 'sex'])\n",
      "top1000 = grouped.apply(get_top1000)"
     ],
     "language": "python",
     "metadata": {},
     "outputs": [],
     "prompt_number": 19
    },
    {
     "cell_type": "code",
     "collapsed": false,
     "input": [
      "top1000"
     ],
     "language": "python",
     "metadata": {},
     "outputs": [
      {
       "html": [
        "<pre>\n",
        "&lt;class 'pandas.core.frame.DataFrame'&gt;\n",
        "MultiIndex: 261877 entries, (1880, F, 0) to (2010, M, 1677643)\n",
        "Data columns (total 5 columns):\n",
        "name      261877  non-null values\n",
        "sex       261877  non-null values\n",
        "births    261877  non-null values\n",
        "year      261877  non-null values\n",
        "prop      261877  non-null values\n",
        "dtypes: float64(1), int64(2), object(2)\n",
        "</pre>"
       ],
       "metadata": {},
       "output_type": "pyout",
       "prompt_number": 20,
       "text": [
        "<class 'pandas.core.frame.DataFrame'>\n",
        "MultiIndex: 261877 entries, (1880, F, 0) to (2010, M, 1677643)\n",
        "Data columns (total 5 columns):\n",
        "name      261877  non-null values\n",
        "sex       261877  non-null values\n",
        "births    261877  non-null values\n",
        "year      261877  non-null values\n",
        "prop      261877  non-null values\n",
        "dtypes: float64(1), int64(2), object(2)"
       ]
      }
     ],
     "prompt_number": 20
    },
    {
     "cell_type": "code",
     "collapsed": false,
     "input": [
      "# Analyzing Naming Trends\n",
      "boys = top1000[top1000.sex == 'M']\n",
      "girls = top1000[top1000.sex == 'F']"
     ],
     "language": "python",
     "metadata": {},
     "outputs": [],
     "prompt_number": 21
    },
    {
     "cell_type": "code",
     "collapsed": false,
     "input": [
      "total_births = top1000.pivot_table('births', rows='year', cols='name', aggfunc=sum)"
     ],
     "language": "python",
     "metadata": {},
     "outputs": [],
     "prompt_number": 22
    },
    {
     "cell_type": "code",
     "collapsed": false,
     "input": [
      "total_births"
     ],
     "language": "python",
     "metadata": {},
     "outputs": [
      {
       "html": [
        "<pre>\n",
        "&lt;class 'pandas.core.frame.DataFrame'&gt;\n",
        "Int64Index: 131 entries, 1880 to 2010\n",
        "Columns: 6865 entries, Aaden to Zuri\n",
        "dtypes: float64(6865)\n",
        "</pre>"
       ],
       "metadata": {},
       "output_type": "pyout",
       "prompt_number": 23,
       "text": [
        "<class 'pandas.core.frame.DataFrame'>\n",
        "Int64Index: 131 entries, 1880 to 2010\n",
        "Columns: 6865 entries, Aaden to Zuri\n",
        "dtypes: float64(6865)"
       ]
      }
     ],
     "prompt_number": 23
    },
    {
     "cell_type": "code",
     "collapsed": false,
     "input": [
      "subset = total_births[['John', 'Harry', 'Mary', 'Marilyn']]"
     ],
     "language": "python",
     "metadata": {},
     "outputs": [],
     "prompt_number": 24
    },
    {
     "cell_type": "code",
     "collapsed": false,
     "input": [
      "# Measuring the increase in naming diversity\n",
      "\n",
      "# Proportion of births represented by the top 1000 most\n",
      "# popular names, which I aggregate and plot by year and sex\n",
      "\n",
      "table = top1000.pivot_table('prop', rows='year', cols='sex', aggfunc=sum)\n",
      "table.plot(title='Sum of table1000.prop by year and sex', \n",
      "           yticks=np.linspace(0, 1.2, 13), xticks=range(1880, 2020, 10))"
     ],
     "language": "python",
     "metadata": {},
     "outputs": [
      {
       "metadata": {},
       "output_type": "pyout",
       "prompt_number": 25,
       "text": [
        "<matplotlib.axes.AxesSubplot at 0x18a84aec>"
       ]
      }
     ],
     "prompt_number": 25
    },
    {
     "cell_type": "code",
     "collapsed": false,
     "input": [
      "subset.plot(subplots=True, figsize=(12, 10), grid=False, title=\"Number of births per year\")"
     ],
     "language": "python",
     "metadata": {},
     "outputs": [
      {
       "metadata": {},
       "output_type": "pyout",
       "prompt_number": 26,
       "text": [
        "array([<matplotlib.axes.AxesSubplot object at 0x18ab292c>,\n",
        "       <matplotlib.axes.AxesSubplot object at 0xbc3d0cc>,\n",
        "       <matplotlib.axes.AxesSubplot object at 0xb85536c>,\n",
        "       <matplotlib.axes.AxesSubplot object at 0x173f760c>], dtype=object)"
       ]
      }
     ],
     "prompt_number": 26
    },
    {
     "cell_type": "code",
     "collapsed": false,
     "input": [
      "df = boys[boys.year == 2010]"
     ],
     "language": "python",
     "metadata": {},
     "outputs": [],
     "prompt_number": 27
    },
    {
     "cell_type": "code",
     "collapsed": false,
     "input": [
      "df"
     ],
     "language": "python",
     "metadata": {},
     "outputs": [
      {
       "html": [
        "<pre>\n",
        "&lt;class 'pandas.core.frame.DataFrame'&gt;\n",
        "MultiIndex: 1000 entries, (2010, M, 1676644) to (2010, M, 1677643)\n",
        "Data columns (total 5 columns):\n",
        "name      1000  non-null values\n",
        "sex       1000  non-null values\n",
        "births    1000  non-null values\n",
        "year      1000  non-null values\n",
        "prop      1000  non-null values\n",
        "dtypes: float64(1), int64(2), object(2)\n",
        "</pre>"
       ],
       "metadata": {},
       "output_type": "pyout",
       "prompt_number": 28,
       "text": [
        "<class 'pandas.core.frame.DataFrame'>\n",
        "MultiIndex: 1000 entries, (2010, M, 1676644) to (2010, M, 1677643)\n",
        "Data columns (total 5 columns):\n",
        "name      1000  non-null values\n",
        "sex       1000  non-null values\n",
        "births    1000  non-null values\n",
        "year      1000  non-null values\n",
        "prop      1000  non-null values\n",
        "dtypes: float64(1), int64(2), object(2)"
       ]
      }
     ],
     "prompt_number": 28
    },
    {
     "cell_type": "code",
     "collapsed": false,
     "input": [
      "# How many of the most popular names it takes to reach 50%\n",
      "prop_cumsum = df.sort_index(by='prop', ascending=False).prop.cumsum()\n",
      "prop_cumsum[:10]"
     ],
     "language": "python",
     "metadata": {},
     "outputs": [
      {
       "metadata": {},
       "output_type": "pyout",
       "prompt_number": 29,
       "text": [
        "year  sex         \n",
        "2010  M    1676644    0.011523\n",
        "           1676645    0.020934\n",
        "           1676646    0.029959\n",
        "           1676647    0.038930\n",
        "           1676648    0.047817\n",
        "           1676649    0.056579\n",
        "           1676650    0.065155\n",
        "           1676651    0.073414\n",
        "           1676652    0.081528\n",
        "           1676653    0.089621\n",
        "dtype: float64"
       ]
      }
     ],
     "prompt_number": 29
    },
    {
     "cell_type": "code",
     "collapsed": false,
     "input": [
      " #Since arrays are zero-indexed, adding 1 to \n",
      "# this result gives you a result of 117\n",
      "prop_cumsum.searchsorted(0.5)"
     ],
     "language": "python",
     "metadata": {},
     "outputs": [
      {
       "metadata": {},
       "output_type": "pyout",
       "prompt_number": 30,
       "text": [
        "116"
       ]
      }
     ],
     "prompt_number": 30
    },
    {
     "cell_type": "code",
     "collapsed": false,
     "input": [
      "# In 1900 this number was much smaller\n",
      "df = boys[boys.year == 1900]\n",
      "in1900 = df.sort_index(by='prop', ascending=False).prop.cumsum()\n",
      "in1900.searchsorted(0.5) + 1\n"
     ],
     "language": "python",
     "metadata": {},
     "outputs": [
      {
       "metadata": {},
       "output_type": "pyout",
       "prompt_number": 31,
       "text": [
        "25"
       ]
      }
     ],
     "prompt_number": 31
    },
    {
     "cell_type": "code",
     "collapsed": false,
     "input": [
      "# Apply this operation to each year/sex combination\n",
      "def get_quantile_count(group, q=0.5):\n",
      "  group = group.sort_index(by='prop', ascending=False)\n",
      "  return group.prop.cumsum().searchsorted(q) + 1\n",
      "\n",
      "diversity = top1000.groupby(['year', 'sex']).apply(get_quantile_count)\n",
      "diversity = diversity.unstack('sex')\n"
     ],
     "language": "python",
     "metadata": {},
     "outputs": [],
     "prompt_number": 32
    },
    {
     "cell_type": "code",
     "collapsed": false,
     "input": [
      "diversity.head()"
     ],
     "language": "python",
     "metadata": {},
     "outputs": [
      {
       "html": [
        "<div style=\"max-height:1000px;max-width:1500px;overflow:auto;\">\n",
        "<table border=\"1\" class=\"dataframe\">\n",
        "  <thead>\n",
        "    <tr style=\"text-align: right;\">\n",
        "      <th>sex</th>\n",
        "      <th>F</th>\n",
        "      <th>M</th>\n",
        "    </tr>\n",
        "    <tr>\n",
        "      <th>year</th>\n",
        "      <th></th>\n",
        "      <th></th>\n",
        "    </tr>\n",
        "  </thead>\n",
        "  <tbody>\n",
        "    <tr>\n",
        "      <th>1880</th>\n",
        "      <td> 38</td>\n",
        "      <td> 14</td>\n",
        "    </tr>\n",
        "    <tr>\n",
        "      <th>1881</th>\n",
        "      <td> 38</td>\n",
        "      <td> 14</td>\n",
        "    </tr>\n",
        "    <tr>\n",
        "      <th>1882</th>\n",
        "      <td> 38</td>\n",
        "      <td> 15</td>\n",
        "    </tr>\n",
        "    <tr>\n",
        "      <th>1883</th>\n",
        "      <td> 39</td>\n",
        "      <td> 15</td>\n",
        "    </tr>\n",
        "    <tr>\n",
        "      <th>1884</th>\n",
        "      <td> 39</td>\n",
        "      <td> 16</td>\n",
        "    </tr>\n",
        "  </tbody>\n",
        "</table>\n",
        "</div>"
       ],
       "metadata": {},
       "output_type": "pyout",
       "prompt_number": 33,
       "text": [
        "sex    F   M\n",
        "year        \n",
        "1880  38  14\n",
        "1881  38  14\n",
        "1882  38  15\n",
        "1883  39  15\n",
        "1884  39  16"
       ]
      }
     ],
     "prompt_number": 33
    },
    {
     "cell_type": "code",
     "collapsed": false,
     "input": [
      "diversity.plot(title=\"Number of popular names in top 50%\")\n",
      "ylabel(\"# of names\")\n",
      "# You can see that girl names have always been more diverse than \n",
      "# boy names and they have only become more so over time"
     ],
     "language": "python",
     "metadata": {},
     "outputs": [
      {
       "metadata": {},
       "output_type": "pyout",
       "prompt_number": 34,
       "text": [
        "<matplotlib.text.Text at 0x177a7dec>"
       ]
      }
     ],
     "prompt_number": 34
    },
    {
     "cell_type": "code",
     "collapsed": false,
     "input": [
      "# extract last letter from name column\n",
      "get_last_letter = lambda x: x[-1]\n",
      "last_letters = names.name.map(get_last_letter)\n",
      "last_letters.name = 'last_letter'\n",
      "\n",
      "table = names.pivot_table('births', rows=last_letters,\n",
      "                          cols=['sex', 'year'], aggfunc=sum)"
     ],
     "language": "python",
     "metadata": {},
     "outputs": [],
     "prompt_number": 35
    },
    {
     "cell_type": "code",
     "collapsed": false,
     "input": [
      "subtable = table.reindex(columns=[1910, 1960, 2010], level='year')"
     ],
     "language": "python",
     "metadata": {},
     "outputs": [],
     "prompt_number": 36
    },
    {
     "cell_type": "code",
     "collapsed": false,
     "input": [
      "subtable.head()"
     ],
     "language": "python",
     "metadata": {},
     "outputs": [
      {
       "html": [
        "<div style=\"max-height:1000px;max-width:1500px;overflow:auto;\">\n",
        "<table border=\"1\" class=\"dataframe\">\n",
        "  <thead>\n",
        "    <tr>\n",
        "      <th>sex</th>\n",
        "      <th colspan=\"3\" halign=\"left\">F</th>\n",
        "      <th colspan=\"3\" halign=\"left\">M</th>\n",
        "    </tr>\n",
        "    <tr>\n",
        "      <th>year</th>\n",
        "      <th>1910</th>\n",
        "      <th>1960</th>\n",
        "      <th>2010</th>\n",
        "      <th>1910</th>\n",
        "      <th>1960</th>\n",
        "      <th>2010</th>\n",
        "    </tr>\n",
        "    <tr>\n",
        "      <th>last_letter</th>\n",
        "      <th></th>\n",
        "      <th></th>\n",
        "      <th></th>\n",
        "      <th></th>\n",
        "      <th></th>\n",
        "      <th></th>\n",
        "    </tr>\n",
        "  </thead>\n",
        "  <tbody>\n",
        "    <tr>\n",
        "      <th>a</th>\n",
        "      <td> 108376</td>\n",
        "      <td> 691247</td>\n",
        "      <td> 670605</td>\n",
        "      <td>   977</td>\n",
        "      <td>   5204</td>\n",
        "      <td>  28438</td>\n",
        "    </tr>\n",
        "    <tr>\n",
        "      <th>b</th>\n",
        "      <td>    NaN</td>\n",
        "      <td>    694</td>\n",
        "      <td>    450</td>\n",
        "      <td>   411</td>\n",
        "      <td>   3912</td>\n",
        "      <td>  38859</td>\n",
        "    </tr>\n",
        "    <tr>\n",
        "      <th>c</th>\n",
        "      <td>      5</td>\n",
        "      <td>     49</td>\n",
        "      <td>    946</td>\n",
        "      <td>   482</td>\n",
        "      <td>  15476</td>\n",
        "      <td>  23125</td>\n",
        "    </tr>\n",
        "    <tr>\n",
        "      <th>d</th>\n",
        "      <td>   6750</td>\n",
        "      <td>   3729</td>\n",
        "      <td>   2607</td>\n",
        "      <td> 22111</td>\n",
        "      <td> 262112</td>\n",
        "      <td>  44398</td>\n",
        "    </tr>\n",
        "    <tr>\n",
        "      <th>e</th>\n",
        "      <td> 133569</td>\n",
        "      <td> 435013</td>\n",
        "      <td> 313833</td>\n",
        "      <td> 28655</td>\n",
        "      <td> 178823</td>\n",
        "      <td> 129012</td>\n",
        "    </tr>\n",
        "  </tbody>\n",
        "</table>\n",
        "</div>"
       ],
       "metadata": {},
       "output_type": "pyout",
       "prompt_number": 37,
       "text": [
        "sex               F                      M                \n",
        "year           1910    1960    2010   1910    1960    2010\n",
        "last_letter                                               \n",
        "a            108376  691247  670605    977    5204   28438\n",
        "b               NaN     694     450    411    3912   38859\n",
        "c                 5      49     946    482   15476   23125\n",
        "d              6750    3729    2607  22111  262112   44398\n",
        "e            133569  435013  313833  28655  178823  129012"
       ]
      }
     ],
     "prompt_number": 37
    },
    {
     "cell_type": "code",
     "collapsed": false,
     "input": [
      "subtable.sum()"
     ],
     "language": "python",
     "metadata": {},
     "outputs": [
      {
       "metadata": {},
       "output_type": "pyout",
       "prompt_number": 38,
       "text": [
        "sex  year\n",
        "F    1910     396416\n",
        "     1960    2022062\n",
        "     2010    1759010\n",
        "M    1910     194198\n",
        "     1960    2132588\n",
        "     2010    1898382\n",
        "dtype: float64"
       ]
      }
     ],
     "prompt_number": 38
    },
    {
     "cell_type": "code",
     "collapsed": false,
     "input": [
      "letter_prop = subtable / subtable.sum().astype(float)"
     ],
     "language": "python",
     "metadata": {},
     "outputs": [],
     "prompt_number": 39
    },
    {
     "cell_type": "code",
     "collapsed": false,
     "input": [
      "import matplotlib.pyplot as plt"
     ],
     "language": "python",
     "metadata": {},
     "outputs": [],
     "prompt_number": 40
    },
    {
     "cell_type": "code",
     "collapsed": false,
     "input": [
      "fig, axes = plt.subplots(2, 1, figsize=(10, 8))\n",
      "letter_prop['M'].plot(kind='bar', rot=0, ax=axes[0], title='Male')\n",
      "letter_prop['F'].plot(kind='bar', rot=0, ax=axes[1], title='Female',legend=False)"
     ],
     "language": "python",
     "metadata": {},
     "outputs": [
      {
       "metadata": {},
       "output_type": "pyout",
       "prompt_number": 41,
       "text": [
        "<matplotlib.axes.AxesSubplot at 0x177ebd0c>"
       ]
      }
     ],
     "prompt_number": 41
    }
   ],
   "metadata": {}
  }
 ]
}